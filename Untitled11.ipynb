{
 "cells": [
  {
   "cell_type": "code",
   "execution_count": 5,
   "id": "220b6fe6",
   "metadata": {
    "ExecuteTime": {
     "end_time": "2022-11-29T04:50:40.745835Z",
     "start_time": "2022-11-29T04:50:29.688745Z"
    }
   },
   "outputs": [
    {
     "name": "stdout",
     "output_type": "stream",
     "text": [
      "Requirement already satisfied: numpy in c:\\users\\prajwal\\anaconda3\\lib\\site-packages (1.21.5)\n"
     ]
    }
   ],
   "source": [
    " #importing necessary library\n",
    "!pip install numpy\n",
    "    "
   ]
  },
  {
   "cell_type": "code",
   "execution_count": 6,
   "id": "2bfdcea6",
   "metadata": {
    "ExecuteTime": {
     "end_time": "2022-11-29T04:50:54.042619Z",
     "start_time": "2022-11-29T04:50:53.420626Z"
    }
   },
   "outputs": [],
   "source": [
    "import numpy as np"
   ]
  },
  {
   "cell_type": "code",
   "execution_count": 7,
   "id": "f5c54cc4",
   "metadata": {
    "ExecuteTime": {
     "end_time": "2022-11-29T04:51:34.142345Z",
     "start_time": "2022-11-29T04:51:34.128354Z"
    }
   },
   "outputs": [],
   "source": [
    "#Array  creation\n",
    "\n",
    "a = np.array(10)"
   ]
  },
  {
   "cell_type": "code",
   "execution_count": 8,
   "id": "a5aeeffa",
   "metadata": {
    "ExecuteTime": {
     "end_time": "2022-11-29T05:44:43.558206Z",
     "start_time": "2022-11-29T05:44:43.541299Z"
    }
   },
   "outputs": [],
   "source": [
    "#Zero Dimensional array"
   ]
  },
  {
   "cell_type": "code",
   "execution_count": 13,
   "id": "75043cd8",
   "metadata": {
    "ExecuteTime": {
     "end_time": "2022-11-29T05:46:19.519872Z",
     "start_time": "2022-11-29T05:46:19.489466Z"
    }
   },
   "outputs": [
    {
     "data": {
      "text/plain": [
       "0"
      ]
     },
     "execution_count": 13,
     "metadata": {},
     "output_type": "execute_result"
    }
   ],
   "source": [
    "z = np.array(10)\n",
    "\n",
    "z.ndim"
   ]
  },
  {
   "cell_type": "code",
   "execution_count": 14,
   "id": "e9f565fd",
   "metadata": {
    "ExecuteTime": {
     "end_time": "2022-11-29T05:46:37.311588Z",
     "start_time": "2022-11-29T05:46:37.292892Z"
    }
   },
   "outputs": [],
   "source": [
    "# one diamensional arry \n"
   ]
  },
  {
   "cell_type": "code",
   "execution_count": 15,
   "id": "a401d4b4",
   "metadata": {
    "ExecuteTime": {
     "end_time": "2022-11-29T05:47:21.653960Z",
     "start_time": "2022-11-29T05:47:21.628885Z"
    }
   },
   "outputs": [
    {
     "data": {
      "text/plain": [
       "1"
      ]
     },
     "execution_count": 15,
     "metadata": {},
     "output_type": "execute_result"
    }
   ],
   "source": [
    "o = np.array([10,12,12,15])\n",
    "o.ndim"
   ]
  },
  {
   "cell_type": "code",
   "execution_count": 16,
   "id": "ec205d63",
   "metadata": {
    "ExecuteTime": {
     "end_time": "2022-11-29T05:47:38.779190Z",
     "start_time": "2022-11-29T05:47:38.762507Z"
    }
   },
   "outputs": [],
   "source": [
    "# Two diamensional Array"
   ]
  },
  {
   "cell_type": "code",
   "execution_count": 18,
   "id": "8b9d4ab0",
   "metadata": {
    "ExecuteTime": {
     "end_time": "2022-11-29T05:48:57.826171Z",
     "start_time": "2022-11-29T05:48:57.798166Z"
    }
   },
   "outputs": [
    {
     "data": {
      "text/plain": [
       "2"
      ]
     },
     "execution_count": 18,
     "metadata": {},
     "output_type": "execute_result"
    }
   ],
   "source": [
    "t = np.array([[10,10,12,14,15]])\n",
    "t.ndim"
   ]
  },
  {
   "cell_type": "code",
   "execution_count": 19,
   "id": "640b3e17",
   "metadata": {
    "ExecuteTime": {
     "end_time": "2022-11-29T05:49:07.859114Z",
     "start_time": "2022-11-29T05:49:07.839953Z"
    }
   },
   "outputs": [],
   "source": [
    "#three diamensional array"
   ]
  },
  {
   "cell_type": "code",
   "execution_count": 20,
   "id": "a23901d6",
   "metadata": {
    "ExecuteTime": {
     "end_time": "2022-11-29T05:50:00.378288Z",
     "start_time": "2022-11-29T05:50:00.356691Z"
    }
   },
   "outputs": [
    {
     "data": {
      "text/plain": [
       "3"
      ]
     },
     "execution_count": 20,
     "metadata": {},
     "output_type": "execute_result"
    }
   ],
   "source": [
    "th = np.array([[[10,12,14,15,16]]])\n",
    "th.ndim"
   ]
  },
  {
   "cell_type": "code",
   "execution_count": 21,
   "id": "568f256c",
   "metadata": {
    "ExecuteTime": {
     "end_time": "2022-11-29T05:50:21.720718Z",
     "start_time": "2022-11-29T05:50:21.710050Z"
    }
   },
   "outputs": [],
   "source": [
    "# Change the data of the array elements "
   ]
  },
  {
   "cell_type": "code",
   "execution_count": 22,
   "id": "00dacf08",
   "metadata": {
    "ExecuteTime": {
     "end_time": "2022-11-29T05:50:53.861868Z",
     "start_time": "2022-11-29T05:50:53.844005Z"
    }
   },
   "outputs": [],
   "source": [
    "a = np.array([10,12,52,54])"
   ]
  },
  {
   "cell_type": "code",
   "execution_count": 23,
   "id": "93276c13",
   "metadata": {
    "ExecuteTime": {
     "end_time": "2022-11-29T05:51:11.427704Z",
     "start_time": "2022-11-29T05:51:11.374866Z"
    }
   },
   "outputs": [
    {
     "data": {
      "text/plain": [
       "dtype('int32')"
      ]
     },
     "execution_count": 23,
     "metadata": {},
     "output_type": "execute_result"
    }
   ],
   "source": [
    "a.dtype"
   ]
  },
  {
   "cell_type": "code",
   "execution_count": 24,
   "id": "1d749211",
   "metadata": {
    "ExecuteTime": {
     "end_time": "2022-11-29T05:53:14.801142Z",
     "start_time": "2022-11-29T05:53:14.774170Z"
    }
   },
   "outputs": [
    {
     "name": "stdout",
     "output_type": "stream",
     "text": [
      "float64\n"
     ]
    }
   ],
   "source": [
    "a = np.array([10,15,52,54], dtype = \"float\")\n",
    "print(a.dtype)\n"
   ]
  },
  {
   "cell_type": "code",
   "execution_count": 26,
   "id": "189a6700",
   "metadata": {
    "ExecuteTime": {
     "end_time": "2022-11-29T05:54:39.106558Z",
     "start_time": "2022-11-29T05:54:39.049969Z"
    }
   },
   "outputs": [
    {
     "data": {
      "text/plain": [
       "array([ 1,  3,  5,  7,  9, 11, 13, 15, 17, 19])"
      ]
     },
     "execution_count": 26,
     "metadata": {},
     "output_type": "execute_result"
    }
   ],
   "source": [
    "a = np.arange(1,21,2)\n",
    "a"
   ]
  },
  {
   "cell_type": "code",
   "execution_count": 28,
   "id": "6be916ba",
   "metadata": {
    "ExecuteTime": {
     "end_time": "2022-11-29T05:55:45.090153Z",
     "start_time": "2022-11-29T05:55:45.029143Z"
    }
   },
   "outputs": [
    {
     "data": {
      "text/plain": [
       "(array([1.        , 1.28571429, 1.57142857, 1.85714286, 2.14285714,\n",
       "        2.42857143, 2.71428571, 3.        , 3.28571429, 3.57142857,\n",
       "        3.85714286, 4.14285714, 4.42857143, 4.71428571, 5.        ]),\n",
       " 0.2857142857142857)"
      ]
     },
     "execution_count": 28,
     "metadata": {},
     "output_type": "execute_result"
    }
   ],
   "source": [
    "b = np.linspace(1,5,15, retstep=True)\n",
    "b"
   ]
  },
  {
   "cell_type": "code",
   "execution_count": 30,
   "id": "dadbc2bb",
   "metadata": {
    "ExecuteTime": {
     "end_time": "2022-11-29T05:56:45.874777Z",
     "start_time": "2022-11-29T05:56:45.858170Z"
    }
   },
   "outputs": [
    {
     "data": {
      "text/plain": [
       "array([[0., 0.],\n",
       "       [0., 0.]])"
      ]
     },
     "execution_count": 30,
     "metadata": {},
     "output_type": "execute_result"
    }
   ],
   "source": [
    "z = np.zeros([2,2])\n",
    "z"
   ]
  },
  {
   "cell_type": "code",
   "execution_count": 32,
   "id": "8cd5050f",
   "metadata": {
    "ExecuteTime": {
     "end_time": "2022-11-29T05:57:41.468563Z",
     "start_time": "2022-11-29T05:57:41.447847Z"
    }
   },
   "outputs": [
    {
     "data": {
      "text/plain": [
       "array([[1., 1., 1., 1., 1.],\n",
       "       [1., 1., 1., 1., 1.],\n",
       "       [1., 1., 1., 1., 1.],\n",
       "       [1., 1., 1., 1., 1.],\n",
       "       [1., 1., 1., 1., 1.]])"
      ]
     },
     "execution_count": 32,
     "metadata": {},
     "output_type": "execute_result"
    }
   ],
   "source": [
    "o = np.ones([5,5])\n",
    "o"
   ]
  },
  {
   "cell_type": "code",
   "execution_count": 33,
   "id": "12e4d778",
   "metadata": {
    "ExecuteTime": {
     "end_time": "2022-11-29T05:59:44.272362Z",
     "start_time": "2022-11-29T05:59:44.220691Z"
    }
   },
   "outputs": [
    {
     "data": {
      "text/plain": [
       "array([[0.03446471, 0.50699362, 0.77527724, 0.81482751, 0.7620486 ],\n",
       "       [0.03995256, 0.20899669, 0.54022895, 0.68269826, 0.8439595 ],\n",
       "       [0.42056908, 0.41379152, 0.87111414, 0.96552663, 0.61884263],\n",
       "       [0.6400138 , 0.3687387 , 0.4022191 , 0.51686396, 0.76365679],\n",
       "       [0.35016768, 0.43946666, 0.17944054, 0.06297172, 0.78460143]])"
      ]
     },
     "execution_count": 33,
     "metadata": {},
     "output_type": "execute_result"
    }
   ],
   "source": [
    "r = np.random.rand(5,5)\n",
    "r"
   ]
  },
  {
   "cell_type": "code",
   "execution_count": 34,
   "id": "d34f041a",
   "metadata": {
    "ExecuteTime": {
     "end_time": "2022-11-29T06:01:21.282248Z",
     "start_time": "2022-11-29T06:01:21.227505Z"
    }
   },
   "outputs": [
    {
     "data": {
      "text/plain": [
       "array([0, 4, 2, 3, 4, 2, 2, 1, 2, 4])"
      ]
     },
     "execution_count": 34,
     "metadata": {},
     "output_type": "execute_result"
    }
   ],
   "source": [
    "r = np.random.randint(5, size = 10)\n",
    "r"
   ]
  },
  {
   "cell_type": "markdown",
   "id": "49d70240",
   "metadata": {},
   "source": [
    "# Slicing and indexing of array"
   ]
  },
  {
   "cell_type": "code",
   "execution_count": 36,
   "id": "6b50ee0f",
   "metadata": {
    "ExecuteTime": {
     "end_time": "2022-11-29T06:03:58.681531Z",
     "start_time": "2022-11-29T06:03:58.668731Z"
    }
   },
   "outputs": [],
   "source": [
    "a = np.array([[1,2,3],[4,5,6]])"
   ]
  },
  {
   "cell_type": "code",
   "execution_count": 37,
   "id": "08b2f880",
   "metadata": {
    "ExecuteTime": {
     "end_time": "2022-11-29T06:04:09.472800Z",
     "start_time": "2022-11-29T06:04:09.448522Z"
    }
   },
   "outputs": [
    {
     "data": {
      "text/plain": [
       "array([[1, 2, 3],\n",
       "       [4, 5, 6]])"
      ]
     },
     "execution_count": 37,
     "metadata": {},
     "output_type": "execute_result"
    }
   ],
   "source": [
    "a"
   ]
  },
  {
   "cell_type": "code",
   "execution_count": 38,
   "id": "f300c6fb",
   "metadata": {
    "ExecuteTime": {
     "end_time": "2022-11-29T06:05:01.199033Z",
     "start_time": "2022-11-29T06:05:01.169497Z"
    }
   },
   "outputs": [
    {
     "data": {
      "text/plain": [
       "1"
      ]
     },
     "execution_count": 38,
     "metadata": {},
     "output_type": "execute_result"
    }
   ],
   "source": [
    "a[0,0]"
   ]
  },
  {
   "cell_type": "code",
   "execution_count": 39,
   "id": "baac5d03",
   "metadata": {
    "ExecuteTime": {
     "end_time": "2022-11-29T06:05:09.053752Z",
     "start_time": "2022-11-29T06:05:09.031990Z"
    }
   },
   "outputs": [
    {
     "data": {
      "text/plain": [
       "6"
      ]
     },
     "execution_count": 39,
     "metadata": {},
     "output_type": "execute_result"
    }
   ],
   "source": [
    "a[1,2]"
   ]
  },
  {
   "cell_type": "code",
   "execution_count": 40,
   "id": "25823340",
   "metadata": {
    "ExecuteTime": {
     "end_time": "2022-11-29T06:05:34.272915Z",
     "start_time": "2022-11-29T06:05:34.256540Z"
    }
   },
   "outputs": [
    {
     "data": {
      "text/plain": [
       "array([2, 3])"
      ]
     },
     "execution_count": 40,
     "metadata": {},
     "output_type": "execute_result"
    }
   ],
   "source": [
    "a[0,1:]"
   ]
  },
  {
   "cell_type": "code",
   "execution_count": 41,
   "id": "b7923816",
   "metadata": {
    "ExecuteTime": {
     "end_time": "2022-11-29T06:06:28.176061Z",
     "start_time": "2022-11-29T06:06:28.150078Z"
    }
   },
   "outputs": [
    {
     "data": {
      "text/plain": [
       "array([[2, 3],\n",
       "       [5, 6]])"
      ]
     },
     "execution_count": 41,
     "metadata": {},
     "output_type": "execute_result"
    }
   ],
   "source": [
    "a[0:,1:]"
   ]
  },
  {
   "cell_type": "code",
   "execution_count": 42,
   "id": "5395ef32",
   "metadata": {
    "ExecuteTime": {
     "end_time": "2022-11-29T06:06:34.198603Z",
     "start_time": "2022-11-29T06:06:34.170195Z"
    }
   },
   "outputs": [
    {
     "data": {
      "text/plain": [
       "array([[1, 2, 3],\n",
       "       [4, 5, 6]])"
      ]
     },
     "execution_count": 42,
     "metadata": {},
     "output_type": "execute_result"
    }
   ],
   "source": [
    "a"
   ]
  },
  {
   "cell_type": "code",
   "execution_count": 43,
   "id": "3a6953b8",
   "metadata": {
    "ExecuteTime": {
     "end_time": "2022-11-29T06:09:03.782971Z",
     "start_time": "2022-11-29T06:09:03.761047Z"
    }
   },
   "outputs": [],
   "source": [
    "#1 and 6 "
   ]
  },
  {
   "cell_type": "code",
   "execution_count": 44,
   "id": "78c4919b",
   "metadata": {
    "ExecuteTime": {
     "end_time": "2022-11-29T06:09:56.057659Z",
     "start_time": "2022-11-29T06:09:56.043296Z"
    }
   },
   "outputs": [],
   "source": [
    "# Reshaping the array"
   ]
  },
  {
   "cell_type": "code",
   "execution_count": 45,
   "id": "7417090f",
   "metadata": {
    "ExecuteTime": {
     "end_time": "2022-11-29T06:10:13.702449Z",
     "start_time": "2022-11-29T06:10:13.683436Z"
    }
   },
   "outputs": [],
   "source": [
    "a = np.random.rand(5,2)"
   ]
  },
  {
   "cell_type": "code",
   "execution_count": 46,
   "id": "f116f52a",
   "metadata": {
    "ExecuteTime": {
     "end_time": "2022-11-29T06:10:19.134099Z",
     "start_time": "2022-11-29T06:10:19.113741Z"
    }
   },
   "outputs": [
    {
     "data": {
      "text/plain": [
       "array([[0.93657928, 0.0166613 ],\n",
       "       [0.71230762, 0.77705049],\n",
       "       [0.87118541, 0.82022223],\n",
       "       [0.87096257, 0.06033836],\n",
       "       [0.94570117, 0.59383671]])"
      ]
     },
     "execution_count": 46,
     "metadata": {},
     "output_type": "execute_result"
    }
   ],
   "source": [
    "a"
   ]
  },
  {
   "cell_type": "code",
   "execution_count": 47,
   "id": "a1eebafe",
   "metadata": {
    "ExecuteTime": {
     "end_time": "2022-11-29T06:10:42.878463Z",
     "start_time": "2022-11-29T06:10:42.848435Z"
    }
   },
   "outputs": [
    {
     "data": {
      "text/plain": [
       "array([[0.93657928, 0.0166613 , 0.71230762, 0.77705049, 0.87118541],\n",
       "       [0.82022223, 0.87096257, 0.06033836, 0.94570117, 0.59383671]])"
      ]
     },
     "execution_count": 47,
     "metadata": {},
     "output_type": "execute_result"
    }
   ],
   "source": [
    "a.reshape(2,5)"
   ]
  },
  {
   "cell_type": "code",
   "execution_count": 48,
   "id": "a0c17c29",
   "metadata": {
    "ExecuteTime": {
     "end_time": "2022-11-29T06:10:55.830185Z",
     "start_time": "2022-11-29T06:10:55.806595Z"
    }
   },
   "outputs": [
    {
     "data": {
      "text/plain": [
       "array([[0.93657928],\n",
       "       [0.0166613 ],\n",
       "       [0.71230762],\n",
       "       [0.77705049],\n",
       "       [0.87118541],\n",
       "       [0.82022223],\n",
       "       [0.87096257],\n",
       "       [0.06033836],\n",
       "       [0.94570117],\n",
       "       [0.59383671]])"
      ]
     },
     "execution_count": 48,
     "metadata": {},
     "output_type": "execute_result"
    }
   ],
   "source": [
    "a.reshape(10,1)"
   ]
  },
  {
   "cell_type": "code",
   "execution_count": 49,
   "id": "fd3774d4",
   "metadata": {
    "ExecuteTime": {
     "end_time": "2022-11-29T06:11:16.758469Z",
     "start_time": "2022-11-29T06:11:16.733974Z"
    }
   },
   "outputs": [
    {
     "data": {
      "text/plain": [
       "array([[0.93657928, 0.0166613 , 0.71230762, 0.77705049, 0.87118541],\n",
       "       [0.82022223, 0.87096257, 0.06033836, 0.94570117, 0.59383671]])"
      ]
     },
     "execution_count": 49,
     "metadata": {},
     "output_type": "execute_result"
    }
   ],
   "source": [
    "a.reshape(2,5)"
   ]
  },
  {
   "cell_type": "code",
   "execution_count": 50,
   "id": "26622809",
   "metadata": {
    "ExecuteTime": {
     "end_time": "2022-11-29T06:12:38.562137Z",
     "start_time": "2022-11-29T06:12:38.534970Z"
    }
   },
   "outputs": [
    {
     "data": {
      "text/plain": [
       "array([[0.93657928, 0.0166613 ],\n",
       "       [0.71230762, 0.77705049],\n",
       "       [0.87118541, 0.82022223],\n",
       "       [0.87096257, 0.06033836],\n",
       "       [0.94570117, 0.59383671]])"
      ]
     },
     "execution_count": 50,
     "metadata": {},
     "output_type": "execute_result"
    }
   ],
   "source": [
    "a.reshape(5,-1)"
   ]
  },
  {
   "cell_type": "markdown",
   "id": "a21114de",
   "metadata": {
    "ExecuteTime": {
     "end_time": "2022-11-29T06:13:10.563128Z",
     "start_time": "2022-11-29T06:13:10.546960Z"
    }
   },
   "source": [
    "# Aggregate Function "
   ]
  },
  {
   "cell_type": "code",
   "execution_count": 53,
   "id": "d35756b6",
   "metadata": {
    "ExecuteTime": {
     "end_time": "2022-11-29T06:15:30.954048Z",
     "start_time": "2022-11-29T06:15:30.937805Z"
    }
   },
   "outputs": [
    {
     "data": {
      "text/plain": [
       "array([[0.93657928, 0.0166613 ],\n",
       "       [0.71230762, 0.77705049],\n",
       "       [0.87118541, 0.82022223],\n",
       "       [0.87096257, 0.06033836],\n",
       "       [0.94570117, 0.59383671]])"
      ]
     },
     "execution_count": 53,
     "metadata": {},
     "output_type": "execute_result"
    }
   ],
   "source": [
    "a"
   ]
  },
  {
   "cell_type": "code",
   "execution_count": 54,
   "id": "76135252",
   "metadata": {
    "ExecuteTime": {
     "end_time": "2022-11-29T06:15:45.378033Z",
     "start_time": "2022-11-29T06:15:45.349834Z"
    }
   },
   "outputs": [
    {
     "data": {
      "text/plain": [
       "0.01666130309481406"
      ]
     },
     "execution_count": 54,
     "metadata": {},
     "output_type": "execute_result"
    }
   ],
   "source": [
    "a.min()"
   ]
  },
  {
   "cell_type": "code",
   "execution_count": 55,
   "id": "f3781d50",
   "metadata": {
    "ExecuteTime": {
     "end_time": "2022-11-29T06:15:54.550358Z",
     "start_time": "2022-11-29T06:15:54.518878Z"
    }
   },
   "outputs": [
    {
     "data": {
      "text/plain": [
       "0.3266784049385243"
      ]
     },
     "execution_count": 55,
     "metadata": {},
     "output_type": "execute_result"
    }
   ],
   "source": [
    "a.std()"
   ]
  },
  {
   "cell_type": "code",
   "execution_count": 56,
   "id": "dd9c84cd",
   "metadata": {
    "ExecuteTime": {
     "end_time": "2022-11-29T06:16:00.896415Z",
     "start_time": "2022-11-29T06:16:00.877801Z"
    }
   },
   "outputs": [
    {
     "data": {
      "text/plain": [
       "0.10671878025317846"
      ]
     },
     "execution_count": 56,
     "metadata": {},
     "output_type": "execute_result"
    }
   ],
   "source": [
    "a.var()"
   ]
  },
  {
   "cell_type": "code",
   "execution_count": 57,
   "id": "7e45cb9a",
   "metadata": {
    "ExecuteTime": {
     "end_time": "2022-11-29T06:16:16.384959Z",
     "start_time": "2022-11-29T06:16:16.355410Z"
    }
   },
   "outputs": [
    {
     "data": {
      "text/plain": [
       "0.6604845143317881"
      ]
     },
     "execution_count": 57,
     "metadata": {},
     "output_type": "execute_result"
    }
   ],
   "source": [
    "a.mean()"
   ]
  },
  {
   "cell_type": "code",
   "execution_count": 58,
   "id": "119106b3",
   "metadata": {
    "ExecuteTime": {
     "end_time": "2022-11-29T06:16:28.825897Z",
     "start_time": "2022-11-29T06:16:28.801784Z"
    }
   },
   "outputs": [
    {
     "data": {
      "text/plain": [
       "0.9457011654239109"
      ]
     },
     "execution_count": 58,
     "metadata": {},
     "output_type": "execute_result"
    }
   ],
   "source": [
    "a.max()"
   ]
  },
  {
   "cell_type": "markdown",
   "id": "3879f06e",
   "metadata": {
    "ExecuteTime": {
     "end_time": "2022-11-29T06:16:54.518700Z",
     "start_time": "2022-11-29T06:16:54.504068Z"
    }
   },
   "source": [
    "#Stacking "
   ]
  },
  {
   "cell_type": "code",
   "execution_count": 60,
   "id": "adc6fc87",
   "metadata": {
    "ExecuteTime": {
     "end_time": "2022-11-29T06:17:43.676434Z",
     "start_time": "2022-11-29T06:17:43.662299Z"
    }
   },
   "outputs": [],
   "source": [
    "a = np.array([1,2,3,4,5])\n",
    "b = np.array([4,5,6,8,7])"
   ]
  },
  {
   "cell_type": "code",
   "execution_count": 62,
   "id": "897cfa14",
   "metadata": {
    "ExecuteTime": {
     "end_time": "2022-11-29T06:18:21.811921Z",
     "start_time": "2022-11-29T06:18:21.787604Z"
    }
   },
   "outputs": [
    {
     "data": {
      "text/plain": [
       "array([1, 2, 3, 4, 5, 4, 5, 6, 8, 7])"
      ]
     },
     "execution_count": 62,
     "metadata": {},
     "output_type": "execute_result"
    }
   ],
   "source": [
    "np.hstack([a,b])"
   ]
  },
  {
   "cell_type": "code",
   "execution_count": 63,
   "id": "c8795716",
   "metadata": {
    "ExecuteTime": {
     "end_time": "2022-11-29T06:19:06.405681Z",
     "start_time": "2022-11-29T06:19:06.375584Z"
    }
   },
   "outputs": [
    {
     "data": {
      "text/plain": [
       "array([[1, 2, 3, 4, 5],\n",
       "       [4, 5, 6, 8, 7]])"
      ]
     },
     "execution_count": 63,
     "metadata": {},
     "output_type": "execute_result"
    }
   ],
   "source": [
    "np.vstack([a,b])"
   ]
  },
  {
   "cell_type": "code",
   "execution_count": null,
   "id": "680c8b35",
   "metadata": {},
   "outputs": [],
   "source": []
  }
 ],
 "metadata": {
  "kernelspec": {
   "display_name": "Python 3 (ipykernel)",
   "language": "python",
   "name": "python3"
  },
  "language_info": {
   "codemirror_mode": {
    "name": "ipython",
    "version": 3
   },
   "file_extension": ".py",
   "mimetype": "text/x-python",
   "name": "python",
   "nbconvert_exporter": "python",
   "pygments_lexer": "ipython3",
   "version": "3.9.13"
  }
 },
 "nbformat": 4,
 "nbformat_minor": 5
}
