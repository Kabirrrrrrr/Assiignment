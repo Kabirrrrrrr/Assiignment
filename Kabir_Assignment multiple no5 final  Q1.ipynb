{
 "cells": [
  {
   "cell_type": "code",
   "execution_count": 2,
   "id": "2514b48e",
   "metadata": {
    "ExecuteTime": {
     "end_time": "2023-02-09T10:31:07.012435Z",
     "start_time": "2023-02-09T10:30:45.341625Z"
    }
   },
   "outputs": [
    {
     "name": "stdout",
     "output_type": "stream",
     "text": [
      "Requirement already satisfied: tools in c:\\users\\prajwal\\anaconda3\\lib\\site-packages (0.1.9)\n",
      "Requirement already satisfied: lxml in c:\\users\\prajwal\\anaconda3\\lib\\site-packages (from tools) (4.9.1)\n",
      "Requirement already satisfied: pytils in c:\\users\\prajwal\\anaconda3\\lib\\site-packages (from tools) (0.4.1)\n",
      "Requirement already satisfied: six in c:\\users\\prajwal\\anaconda3\\lib\\site-packages (from tools) (1.16.0)\n"
     ]
    }
   ],
   "source": [
    "import pandas as pd\n",
    "import numpy as np\n",
    "import seaborn as sns\n",
    "import matplotlib.pyplot as plt\n",
    "import statsmodels.formula.api as smf\n",
    "import statsmodels.api as sm\n",
    "!pip install tools\n",
    "import tools"
   ]
  },
  {
   "cell_type": "code",
   "execution_count": 3,
   "id": "140c3a95",
   "metadata": {
    "ExecuteTime": {
     "end_time": "2023-02-09T10:31:07.197116Z",
     "start_time": "2023-02-09T10:31:07.020381Z"
    }
   },
   "outputs": [
    {
     "data": {
      "text/html": [
       "<div>\n",
       "<style scoped>\n",
       "    .dataframe tbody tr th:only-of-type {\n",
       "        vertical-align: middle;\n",
       "    }\n",
       "\n",
       "    .dataframe tbody tr th {\n",
       "        vertical-align: top;\n",
       "    }\n",
       "\n",
       "    .dataframe thead th {\n",
       "        text-align: right;\n",
       "    }\n",
       "</style>\n",
       "<table border=\"1\" class=\"dataframe\">\n",
       "  <thead>\n",
       "    <tr style=\"text-align: right;\">\n",
       "      <th></th>\n",
       "      <th>Id</th>\n",
       "      <th>Model</th>\n",
       "      <th>Price</th>\n",
       "      <th>Age_08_04</th>\n",
       "      <th>Mfg_Month</th>\n",
       "      <th>Mfg_Year</th>\n",
       "      <th>KM</th>\n",
       "      <th>Fuel_Type</th>\n",
       "      <th>HP</th>\n",
       "      <th>Met_Color</th>\n",
       "      <th>...</th>\n",
       "      <th>Central_Lock</th>\n",
       "      <th>Powered_Windows</th>\n",
       "      <th>Power_Steering</th>\n",
       "      <th>Radio</th>\n",
       "      <th>Mistlamps</th>\n",
       "      <th>Sport_Model</th>\n",
       "      <th>Backseat_Divider</th>\n",
       "      <th>Metallic_Rim</th>\n",
       "      <th>Radio_cassette</th>\n",
       "      <th>Tow_Bar</th>\n",
       "    </tr>\n",
       "  </thead>\n",
       "  <tbody>\n",
       "    <tr>\n",
       "      <th>0</th>\n",
       "      <td>1</td>\n",
       "      <td>TOYOTA Corolla 2.0 D4D HATCHB TERRA 2/3-Doors</td>\n",
       "      <td>13500</td>\n",
       "      <td>23</td>\n",
       "      <td>10</td>\n",
       "      <td>2002</td>\n",
       "      <td>46986</td>\n",
       "      <td>Diesel</td>\n",
       "      <td>90</td>\n",
       "      <td>1</td>\n",
       "      <td>...</td>\n",
       "      <td>1</td>\n",
       "      <td>1</td>\n",
       "      <td>1</td>\n",
       "      <td>0</td>\n",
       "      <td>0</td>\n",
       "      <td>0</td>\n",
       "      <td>1</td>\n",
       "      <td>0</td>\n",
       "      <td>0</td>\n",
       "      <td>0</td>\n",
       "    </tr>\n",
       "    <tr>\n",
       "      <th>1</th>\n",
       "      <td>2</td>\n",
       "      <td>TOYOTA Corolla 2.0 D4D HATCHB TERRA 2/3-Doors</td>\n",
       "      <td>13750</td>\n",
       "      <td>23</td>\n",
       "      <td>10</td>\n",
       "      <td>2002</td>\n",
       "      <td>72937</td>\n",
       "      <td>Diesel</td>\n",
       "      <td>90</td>\n",
       "      <td>1</td>\n",
       "      <td>...</td>\n",
       "      <td>1</td>\n",
       "      <td>0</td>\n",
       "      <td>1</td>\n",
       "      <td>0</td>\n",
       "      <td>0</td>\n",
       "      <td>0</td>\n",
       "      <td>1</td>\n",
       "      <td>0</td>\n",
       "      <td>0</td>\n",
       "      <td>0</td>\n",
       "    </tr>\n",
       "    <tr>\n",
       "      <th>2</th>\n",
       "      <td>3</td>\n",
       "      <td>TOYOTA Corolla 2.0 D4D HATCHB TERRA 2/3-Doors</td>\n",
       "      <td>13950</td>\n",
       "      <td>24</td>\n",
       "      <td>9</td>\n",
       "      <td>2002</td>\n",
       "      <td>41711</td>\n",
       "      <td>Diesel</td>\n",
       "      <td>90</td>\n",
       "      <td>1</td>\n",
       "      <td>...</td>\n",
       "      <td>0</td>\n",
       "      <td>0</td>\n",
       "      <td>1</td>\n",
       "      <td>0</td>\n",
       "      <td>0</td>\n",
       "      <td>0</td>\n",
       "      <td>1</td>\n",
       "      <td>0</td>\n",
       "      <td>0</td>\n",
       "      <td>0</td>\n",
       "    </tr>\n",
       "    <tr>\n",
       "      <th>3</th>\n",
       "      <td>4</td>\n",
       "      <td>TOYOTA Corolla 2.0 D4D HATCHB TERRA 2/3-Doors</td>\n",
       "      <td>14950</td>\n",
       "      <td>26</td>\n",
       "      <td>7</td>\n",
       "      <td>2002</td>\n",
       "      <td>48000</td>\n",
       "      <td>Diesel</td>\n",
       "      <td>90</td>\n",
       "      <td>0</td>\n",
       "      <td>...</td>\n",
       "      <td>0</td>\n",
       "      <td>0</td>\n",
       "      <td>1</td>\n",
       "      <td>0</td>\n",
       "      <td>0</td>\n",
       "      <td>0</td>\n",
       "      <td>1</td>\n",
       "      <td>0</td>\n",
       "      <td>0</td>\n",
       "      <td>0</td>\n",
       "    </tr>\n",
       "    <tr>\n",
       "      <th>4</th>\n",
       "      <td>5</td>\n",
       "      <td>TOYOTA Corolla 2.0 D4D HATCHB SOL 2/3-Doors</td>\n",
       "      <td>13750</td>\n",
       "      <td>30</td>\n",
       "      <td>3</td>\n",
       "      <td>2002</td>\n",
       "      <td>38500</td>\n",
       "      <td>Diesel</td>\n",
       "      <td>90</td>\n",
       "      <td>0</td>\n",
       "      <td>...</td>\n",
       "      <td>1</td>\n",
       "      <td>1</td>\n",
       "      <td>1</td>\n",
       "      <td>0</td>\n",
       "      <td>1</td>\n",
       "      <td>0</td>\n",
       "      <td>1</td>\n",
       "      <td>0</td>\n",
       "      <td>0</td>\n",
       "      <td>0</td>\n",
       "    </tr>\n",
       "    <tr>\n",
       "      <th>...</th>\n",
       "      <td>...</td>\n",
       "      <td>...</td>\n",
       "      <td>...</td>\n",
       "      <td>...</td>\n",
       "      <td>...</td>\n",
       "      <td>...</td>\n",
       "      <td>...</td>\n",
       "      <td>...</td>\n",
       "      <td>...</td>\n",
       "      <td>...</td>\n",
       "      <td>...</td>\n",
       "      <td>...</td>\n",
       "      <td>...</td>\n",
       "      <td>...</td>\n",
       "      <td>...</td>\n",
       "      <td>...</td>\n",
       "      <td>...</td>\n",
       "      <td>...</td>\n",
       "      <td>...</td>\n",
       "      <td>...</td>\n",
       "      <td>...</td>\n",
       "    </tr>\n",
       "    <tr>\n",
       "      <th>1431</th>\n",
       "      <td>1438</td>\n",
       "      <td>TOYOTA Corolla 1.3 16V HATCHB G6 2/3-Doors</td>\n",
       "      <td>7500</td>\n",
       "      <td>69</td>\n",
       "      <td>12</td>\n",
       "      <td>1998</td>\n",
       "      <td>20544</td>\n",
       "      <td>Petrol</td>\n",
       "      <td>86</td>\n",
       "      <td>1</td>\n",
       "      <td>...</td>\n",
       "      <td>1</td>\n",
       "      <td>1</td>\n",
       "      <td>1</td>\n",
       "      <td>0</td>\n",
       "      <td>1</td>\n",
       "      <td>1</td>\n",
       "      <td>1</td>\n",
       "      <td>0</td>\n",
       "      <td>0</td>\n",
       "      <td>0</td>\n",
       "    </tr>\n",
       "    <tr>\n",
       "      <th>1432</th>\n",
       "      <td>1439</td>\n",
       "      <td>TOYOTA Corolla 1.3 16V HATCHB LINEA TERRA 2/3-...</td>\n",
       "      <td>10845</td>\n",
       "      <td>72</td>\n",
       "      <td>9</td>\n",
       "      <td>1998</td>\n",
       "      <td>19000</td>\n",
       "      <td>Petrol</td>\n",
       "      <td>86</td>\n",
       "      <td>0</td>\n",
       "      <td>...</td>\n",
       "      <td>0</td>\n",
       "      <td>0</td>\n",
       "      <td>1</td>\n",
       "      <td>0</td>\n",
       "      <td>0</td>\n",
       "      <td>1</td>\n",
       "      <td>1</td>\n",
       "      <td>0</td>\n",
       "      <td>0</td>\n",
       "      <td>0</td>\n",
       "    </tr>\n",
       "    <tr>\n",
       "      <th>1433</th>\n",
       "      <td>1440</td>\n",
       "      <td>TOYOTA Corolla 1.3 16V HATCHB LINEA TERRA 2/3-...</td>\n",
       "      <td>8500</td>\n",
       "      <td>71</td>\n",
       "      <td>10</td>\n",
       "      <td>1998</td>\n",
       "      <td>17016</td>\n",
       "      <td>Petrol</td>\n",
       "      <td>86</td>\n",
       "      <td>0</td>\n",
       "      <td>...</td>\n",
       "      <td>0</td>\n",
       "      <td>0</td>\n",
       "      <td>1</td>\n",
       "      <td>0</td>\n",
       "      <td>0</td>\n",
       "      <td>0</td>\n",
       "      <td>1</td>\n",
       "      <td>0</td>\n",
       "      <td>0</td>\n",
       "      <td>0</td>\n",
       "    </tr>\n",
       "    <tr>\n",
       "      <th>1434</th>\n",
       "      <td>1441</td>\n",
       "      <td>TOYOTA Corolla 1.3 16V HATCHB LINEA TERRA 2/3-...</td>\n",
       "      <td>7250</td>\n",
       "      <td>70</td>\n",
       "      <td>11</td>\n",
       "      <td>1998</td>\n",
       "      <td>16916</td>\n",
       "      <td>Petrol</td>\n",
       "      <td>86</td>\n",
       "      <td>1</td>\n",
       "      <td>...</td>\n",
       "      <td>0</td>\n",
       "      <td>0</td>\n",
       "      <td>0</td>\n",
       "      <td>0</td>\n",
       "      <td>0</td>\n",
       "      <td>0</td>\n",
       "      <td>1</td>\n",
       "      <td>0</td>\n",
       "      <td>0</td>\n",
       "      <td>0</td>\n",
       "    </tr>\n",
       "    <tr>\n",
       "      <th>1435</th>\n",
       "      <td>1442</td>\n",
       "      <td>TOYOTA Corolla 1.6 LB LINEA TERRA 4/5-Doors</td>\n",
       "      <td>6950</td>\n",
       "      <td>76</td>\n",
       "      <td>5</td>\n",
       "      <td>1998</td>\n",
       "      <td>1</td>\n",
       "      <td>Petrol</td>\n",
       "      <td>110</td>\n",
       "      <td>0</td>\n",
       "      <td>...</td>\n",
       "      <td>0</td>\n",
       "      <td>0</td>\n",
       "      <td>1</td>\n",
       "      <td>0</td>\n",
       "      <td>0</td>\n",
       "      <td>0</td>\n",
       "      <td>0</td>\n",
       "      <td>0</td>\n",
       "      <td>0</td>\n",
       "      <td>0</td>\n",
       "    </tr>\n",
       "  </tbody>\n",
       "</table>\n",
       "<p>1436 rows × 38 columns</p>\n",
       "</div>"
      ],
      "text/plain": [
       "        Id                                              Model  Price  \\\n",
       "0        1      TOYOTA Corolla 2.0 D4D HATCHB TERRA 2/3-Doors  13500   \n",
       "1        2      TOYOTA Corolla 2.0 D4D HATCHB TERRA 2/3-Doors  13750   \n",
       "2        3      TOYOTA Corolla 2.0 D4D HATCHB TERRA 2/3-Doors  13950   \n",
       "3        4      TOYOTA Corolla 2.0 D4D HATCHB TERRA 2/3-Doors  14950   \n",
       "4        5        TOYOTA Corolla 2.0 D4D HATCHB SOL 2/3-Doors  13750   \n",
       "...    ...                                                ...    ...   \n",
       "1431  1438         TOYOTA Corolla 1.3 16V HATCHB G6 2/3-Doors   7500   \n",
       "1432  1439  TOYOTA Corolla 1.3 16V HATCHB LINEA TERRA 2/3-...  10845   \n",
       "1433  1440  TOYOTA Corolla 1.3 16V HATCHB LINEA TERRA 2/3-...   8500   \n",
       "1434  1441  TOYOTA Corolla 1.3 16V HATCHB LINEA TERRA 2/3-...   7250   \n",
       "1435  1442        TOYOTA Corolla 1.6 LB LINEA TERRA 4/5-Doors   6950   \n",
       "\n",
       "      Age_08_04  Mfg_Month  Mfg_Year     KM Fuel_Type   HP  Met_Color  ...  \\\n",
       "0            23         10      2002  46986    Diesel   90          1  ...   \n",
       "1            23         10      2002  72937    Diesel   90          1  ...   \n",
       "2            24          9      2002  41711    Diesel   90          1  ...   \n",
       "3            26          7      2002  48000    Diesel   90          0  ...   \n",
       "4            30          3      2002  38500    Diesel   90          0  ...   \n",
       "...         ...        ...       ...    ...       ...  ...        ...  ...   \n",
       "1431         69         12      1998  20544    Petrol   86          1  ...   \n",
       "1432         72          9      1998  19000    Petrol   86          0  ...   \n",
       "1433         71         10      1998  17016    Petrol   86          0  ...   \n",
       "1434         70         11      1998  16916    Petrol   86          1  ...   \n",
       "1435         76          5      1998      1    Petrol  110          0  ...   \n",
       "\n",
       "     Central_Lock  Powered_Windows  Power_Steering  Radio  Mistlamps  \\\n",
       "0               1                1               1      0          0   \n",
       "1               1                0               1      0          0   \n",
       "2               0                0               1      0          0   \n",
       "3               0                0               1      0          0   \n",
       "4               1                1               1      0          1   \n",
       "...           ...              ...             ...    ...        ...   \n",
       "1431            1                1               1      0          1   \n",
       "1432            0                0               1      0          0   \n",
       "1433            0                0               1      0          0   \n",
       "1434            0                0               0      0          0   \n",
       "1435            0                0               1      0          0   \n",
       "\n",
       "      Sport_Model  Backseat_Divider  Metallic_Rim  Radio_cassette  Tow_Bar  \n",
       "0               0                 1             0               0        0  \n",
       "1               0                 1             0               0        0  \n",
       "2               0                 1             0               0        0  \n",
       "3               0                 1             0               0        0  \n",
       "4               0                 1             0               0        0  \n",
       "...           ...               ...           ...             ...      ...  \n",
       "1431            1                 1             0               0        0  \n",
       "1432            1                 1             0               0        0  \n",
       "1433            0                 1             0               0        0  \n",
       "1434            0                 1             0               0        0  \n",
       "1435            0                 0             0               0        0  \n",
       "\n",
       "[1436 rows x 38 columns]"
      ]
     },
     "execution_count": 3,
     "metadata": {},
     "output_type": "execute_result"
    }
   ],
   "source": [
    "df = pd.read_csv('ToyotaCorolla.csv',encoding='latin1')\n",
    "df"
   ]
  },
  {
   "cell_type": "code",
   "execution_count": 4,
   "id": "b36ec8fb",
   "metadata": {
    "ExecuteTime": {
     "end_time": "2023-02-09T10:31:07.229123Z",
     "start_time": "2023-02-09T10:31:07.197116Z"
    }
   },
   "outputs": [],
   "source": [
    "df=df[[\"Price\",\"Age_08_04\",\"KM\",\"HP\",\"cc\",\"Doors\",\"Gears\",\"Quarterly_Tax\",\"Weight\"]]"
   ]
  },
  {
   "cell_type": "code",
   "execution_count": 5,
   "id": "1a6aa03d",
   "metadata": {
    "ExecuteTime": {
     "end_time": "2023-02-09T10:31:07.981780Z",
     "start_time": "2023-02-09T10:31:07.237133Z"
    }
   },
   "outputs": [
    {
     "data": {
      "text/plain": [
       "{'whiskers': [<matplotlib.lines.Line2D at 0x1edb899b580>,\n",
       "  <matplotlib.lines.Line2D at 0x1edb899b850>],\n",
       " 'caps': [<matplotlib.lines.Line2D at 0x1edb899bb20>,\n",
       "  <matplotlib.lines.Line2D at 0x1edb899bdf0>],\n",
       " 'boxes': [<matplotlib.lines.Line2D at 0x1edb899b2b0>],\n",
       " 'medians': [<matplotlib.lines.Line2D at 0x1edb89a7100>],\n",
       " 'fliers': [<matplotlib.lines.Line2D at 0x1edb89a73d0>],\n",
       " 'means': []}"
      ]
     },
     "execution_count": 5,
     "metadata": {},
     "output_type": "execute_result"
    },
    {
     "data": {
      "image/png": "[encoded data removed]",
      "text/plain": [
       "<Figure size 640x480 with 1 Axes>"
      ]
     },
     "metadata": {},
     "output_type": "display_data"
    }
   ],
   "source": [
    "plt.boxplot(df[\"Price\"])\n",
    "plt.boxplot(df[\"Age_08_04\"])\n",
    "plt.boxplot(df[\"HP\"])\n",
    "plt.boxplot(df[\"cc\"])\n",
    "plt.boxplot(df[\"Gears\"])\n",
    "plt.boxplot(df[\"Doors\"])\n",
    "plt.boxplot(df[\"Quarterly_Tax\"])\n",
    "plt.boxplot(df[\"Weight\"])"
   ]
  },
  {
   "cell_type": "code",
   "execution_count": null,
   "id": "f22430bd",
   "metadata": {
    "ExecuteTime": {
     "start_time": "2023-02-09T10:30:47.264Z"
    }
   },
   "outputs": [
    {
     "data": {
      "text/plain": [
       "<seaborn.axisgrid.PairGrid at 0x1edb8b44bb0>"
      ]
     },
     "execution_count": 6,
     "metadata": {},
     "output_type": "execute_result"
    }
   ],
   "source": [
    "sns.pairplot(df)"
   ]
  },
  {
   "cell_type": "code",
   "execution_count": null,
   "id": "e6c620ac",
   "metadata": {
    "ExecuteTime": {
     "start_time": "2023-02-09T10:30:47.597Z"
    }
   },
   "outputs": [],
   "source": [
    "plt.hist(df['Price'])"
   ]
  },
  {
   "cell_type": "code",
   "execution_count": null,
   "id": "7a42950d",
   "metadata": {
    "ExecuteTime": {
     "start_time": "2023-02-09T10:30:47.872Z"
    }
   },
   "outputs": [],
   "source": [
    "plt.hist(df['Age_08_04'])"
   ]
  },
  {
   "cell_type": "code",
   "execution_count": null,
   "id": "84c61300",
   "metadata": {
    "ExecuteTime": {
     "start_time": "2023-02-09T10:30:48.189Z"
    }
   },
   "outputs": [],
   "source": [
    "plt.hist(df['HP'])"
   ]
  },
  {
   "cell_type": "code",
   "execution_count": null,
   "id": "99f99f53",
   "metadata": {
    "ExecuteTime": {
     "start_time": "2023-02-09T10:30:48.490Z"
    }
   },
   "outputs": [],
   "source": [
    "plt.hist(df['Weight'])"
   ]
  },
  {
   "cell_type": "code",
   "execution_count": null,
   "id": "a61ab7da",
   "metadata": {
    "ExecuteTime": {
     "start_time": "2023-02-09T10:30:48.776Z"
    }
   },
   "outputs": [],
   "source": [
    "plt.hist(df['cc'])"
   ]
  },
  {
   "cell_type": "code",
   "execution_count": null,
   "id": "27a44904",
   "metadata": {
    "ExecuteTime": {
     "start_time": "2023-02-09T10:30:49.069Z"
    }
   },
   "outputs": [],
   "source": [
    "plt.hist(df['Doors'])"
   ]
  },
  {
   "cell_type": "code",
   "execution_count": null,
   "id": "dfdf608b",
   "metadata": {
    "ExecuteTime": {
     "start_time": "2023-02-09T10:30:49.380Z"
    }
   },
   "outputs": [],
   "source": [
    "plt.hist(df['Quarterly_Tax'])"
   ]
  },
  {
   "cell_type": "code",
   "execution_count": null,
   "id": "2da17cff",
   "metadata": {
    "ExecuteTime": {
     "start_time": "2023-02-09T10:30:49.676Z"
    }
   },
   "outputs": [],
   "source": [
    "df.info()"
   ]
  },
  {
   "cell_type": "code",
   "execution_count": null,
   "id": "0bc3aad0",
   "metadata": {
    "ExecuteTime": {
     "start_time": "2023-02-09T10:30:50.024Z"
    }
   },
   "outputs": [],
   "source": [
    "df.describe()"
   ]
  },
  {
   "cell_type": "code",
   "execution_count": null,
   "id": "30e3313f",
   "metadata": {
    "ExecuteTime": {
     "start_time": "2023-02-09T10:30:50.659Z"
    }
   },
   "outputs": [],
   "source": [
    "df[df.duplicated()]"
   ]
  },
  {
   "cell_type": "code",
   "execution_count": null,
   "id": "80aace3b",
   "metadata": {
    "ExecuteTime": {
     "start_time": "2023-02-09T10:30:51.076Z"
    }
   },
   "outputs": [],
   "source": [
    "df.isna().sum()"
   ]
  },
  {
   "cell_type": "code",
   "execution_count": null,
   "id": "efc278fa",
   "metadata": {
    "ExecuteTime": {
     "start_time": "2023-02-09T10:30:51.480Z"
    }
   },
   "outputs": [],
   "source": [
    "df.corr()"
   ]
  },
  {
   "cell_type": "code",
   "execution_count": null,
   "id": "031bbd32",
   "metadata": {
    "ExecuteTime": {
     "start_time": "2023-02-09T10:30:51.874Z"
    }
   },
   "outputs": [],
   "source": [
    "sns.heatmap(df.corr(),annot=True,cmap = 'rainbow')"
   ]
  },
  {
   "cell_type": "markdown",
   "id": "1f63a3f0",
   "metadata": {},
   "source": [
    "# Prearing model"
   ]
  },
  {
   "cell_type": "code",
   "execution_count": null,
   "id": "495fad8a",
   "metadata": {
    "ExecuteTime": {
     "start_time": "2023-02-09T10:30:52.555Z"
    }
   },
   "outputs": [],
   "source": [
    "import statsmodels.formula.api as smf"
   ]
  },
  {
   "cell_type": "code",
   "execution_count": null,
   "id": "a364d9fc",
   "metadata": {
    "ExecuteTime": {
     "start_time": "2023-02-09T10:30:52.894Z"
    }
   },
   "outputs": [],
   "source": [
    "model = smf.ols('Price~Age_08_04+KM+HP+cc+Doors+Gears+Quarterly_Tax+Weight',data=df).fit()"
   ]
  },
  {
   "cell_type": "code",
   "execution_count": null,
   "id": "27cdd2dc",
   "metadata": {
    "ExecuteTime": {
     "start_time": "2023-02-09T10:30:53.283Z"
    }
   },
   "outputs": [],
   "source": [
    "model.params"
   ]
  },
  {
   "cell_type": "code",
   "execution_count": null,
   "id": "e15008bc",
   "metadata": {
    "ExecuteTime": {
     "start_time": "2023-02-09T10:30:53.684Z"
    }
   },
   "outputs": [],
   "source": [
    "model.summary()"
   ]
  },
  {
   "cell_type": "code",
   "execution_count": null,
   "id": "ed24609c",
   "metadata": {
    "ExecuteTime": {
     "start_time": "2023-02-09T10:30:54.078Z"
    }
   },
   "outputs": [],
   "source": [
    "model.tvalues , model.pvalues"
   ]
  },
  {
   "cell_type": "code",
   "execution_count": null,
   "id": "2514086a",
   "metadata": {
    "ExecuteTime": {
     "start_time": "2023-02-09T10:30:54.380Z"
    }
   },
   "outputs": [],
   "source": [
    "cc_model = smf.ols('Price~cc',data=df).fit()"
   ]
  },
  {
   "cell_type": "code",
   "execution_count": null,
   "id": "994f6f03",
   "metadata": {
    "ExecuteTime": {
     "start_time": "2023-02-09T10:30:54.709Z"
    }
   },
   "outputs": [],
   "source": [
    "cc_model"
   ]
  },
  {
   "cell_type": "code",
   "execution_count": null,
   "id": "1b508c66",
   "metadata": {
    "ExecuteTime": {
     "start_time": "2023-02-09T10:30:54.913Z"
    }
   },
   "outputs": [],
   "source": [
    "cc_model.summary()"
   ]
  },
  {
   "cell_type": "code",
   "execution_count": null,
   "id": "502ee87d",
   "metadata": {
    "ExecuteTime": {
     "start_time": "2023-02-09T10:30:55.115Z"
    }
   },
   "outputs": [],
   "source": [
    "model_Doors = smf.ols('Price~Doors',data=df).fit()"
   ]
  },
  {
   "cell_type": "code",
   "execution_count": null,
   "id": "65805a29",
   "metadata": {
    "ExecuteTime": {
     "start_time": "2023-02-09T10:30:55.398Z"
    }
   },
   "outputs": [],
   "source": [
    "model_Doors.summary()"
   ]
  },
  {
   "cell_type": "code",
   "execution_count": null,
   "id": "768369ee",
   "metadata": {
    "ExecuteTime": {
     "start_time": "2023-02-09T10:30:55.668Z"
    }
   },
   "outputs": [],
   "source": [
    "model2 = smf.ols('Price~cc+Doors',data=df).fit()"
   ]
  },
  {
   "cell_type": "code",
   "execution_count": null,
   "id": "2bf671cb",
   "metadata": {
    "ExecuteTime": {
     "start_time": "2023-02-09T10:30:55.931Z"
    }
   },
   "outputs": [],
   "source": [
    "model2.summary()"
   ]
  },
  {
   "cell_type": "code",
   "execution_count": null,
   "id": "c46f98ee",
   "metadata": {
    "ExecuteTime": {
     "start_time": "2023-02-09T10:30:56.130Z"
    }
   },
   "outputs": [],
   "source": [
    "#Now plotting the influence plot a nd removing the most influential values\n",
    "import statsmodels.api as sm\n",
    "sm.graphics.influence_plot(model)"
   ]
  },
  {
   "cell_type": "code",
   "execution_count": null,
   "id": "c418858d",
   "metadata": {
    "ExecuteTime": {
     "start_time": "2023-02-09T10:30:56.347Z"
    }
   },
   "outputs": [],
   "source": [
    "##removing 80 and checking for significance\n",
    "df1= df.drop(df.index[[80]],axis=0)"
   ]
  },
  {
   "cell_type": "code",
   "execution_count": null,
   "id": "decf635c",
   "metadata": {
    "ExecuteTime": {
     "start_time": "2023-02-09T10:30:56.580Z"
    }
   },
   "outputs": [],
   "source": [
    "mod_2= smf.ols(\"Price~Age_08_04+KM+HP+cc+Doors+Gears+Quarterly_Tax+Weight\",data= df1).fit()"
   ]
  },
  {
   "cell_type": "code",
   "execution_count": null,
   "id": "5b1a25cc",
   "metadata": {
    "ExecuteTime": {
     "start_time": "2023-02-09T10:30:56.991Z"
    }
   },
   "outputs": [],
   "source": [
    "mod_2.summary()"
   ]
  },
  {
   "cell_type": "code",
   "execution_count": null,
   "id": "44f7fee8",
   "metadata": {
    "ExecuteTime": {
     "start_time": "2023-02-09T10:30:57.204Z"
    }
   },
   "outputs": [],
   "source": [
    "## door is insignificant"
   ]
  },
  {
   "cell_type": "code",
   "execution_count": null,
   "id": "e06ccc84",
   "metadata": {
    "ExecuteTime": {
     "start_time": "2023-02-09T10:30:57.406Z"
    }
   },
   "outputs": [],
   "source": [
    "## removing 80,221,960, where 960 is the next most influencing index after 80,221"
   ]
  },
  {
   "cell_type": "code",
   "execution_count": null,
   "id": "b1c5acc5",
   "metadata": {
    "ExecuteTime": {
     "start_time": "2023-02-09T10:30:57.676Z"
    }
   },
   "outputs": [],
   "source": [
    "df2= df1.drop(df1.index[[80,221,960]],axis=0)"
   ]
  },
  {
   "cell_type": "code",
   "execution_count": null,
   "id": "de3a6460",
   "metadata": {
    "ExecuteTime": {
     "start_time": "2023-02-09T10:30:57.878Z"
    }
   },
   "outputs": [],
   "source": [
    "mod_3= smf.ols(\"Price~Age_08_04+KM+HP+cc+Doors+Gears+Quarterly_Tax+Weight\", data = df1).fit()"
   ]
  },
  {
   "cell_type": "code",
   "execution_count": null,
   "id": "dcb26b98",
   "metadata": {
    "ExecuteTime": {
     "start_time": "2023-02-09T10:30:58.083Z"
    }
   },
   "outputs": [],
   "source": [
    "mod_3.summary()"
   ]
  },
  {
   "cell_type": "code",
   "execution_count": null,
   "id": "e9371321",
   "metadata": {
    "ExecuteTime": {
     "start_time": "2023-02-09T10:30:58.388Z"
    }
   },
   "outputs": [],
   "source": [
    "## removing 80,221,960, where 960 is the next most influencing index after 80,2"
   ]
  },
  {
   "cell_type": "code",
   "execution_count": null,
   "id": "9d979784",
   "metadata": {
    "ExecuteTime": {
     "start_time": "2023-02-09T10:30:58.576Z"
    }
   },
   "outputs": [],
   "source": [
    "df3= df.drop(df.index[[80,221,960]],axis=0)"
   ]
  },
  {
   "cell_type": "code",
   "execution_count": null,
   "id": "3b3bd2ec",
   "metadata": {
    "ExecuteTime": {
     "start_time": "2023-02-09T10:30:59.188Z"
    }
   },
   "outputs": [],
   "source": [
    "mod_4= smf.ols(\"Price~Age_08_04+KM+HP+cc+Doors+Gears+Quarterly_Tax+Weight\", data = df3).fit()\n"
   ]
  },
  {
   "cell_type": "code",
   "execution_count": null,
   "id": "bdc10365",
   "metadata": {
    "ExecuteTime": {
     "start_time": "2023-02-09T10:30:59.602Z"
    }
   },
   "outputs": [],
   "source": [
    "mod_4.summary() #88.5 increased accuracy"
   ]
  },
  {
   "cell_type": "code",
   "execution_count": null,
   "id": "7764d6ab",
   "metadata": {
    "ExecuteTime": {
     "start_time": "2023-02-09T10:30:59.806Z"
    }
   },
   "outputs": [],
   "source": [
    "## all the variables are significant\n",
    "## As all the vaiables are significant, we select it as the final model"
   ]
  },
  {
   "cell_type": "code",
   "execution_count": null,
   "id": "4d417e13",
   "metadata": {
    "ExecuteTime": {
     "start_time": "2023-02-09T10:31:00.303Z"
    }
   },
   "outputs": [],
   "source": [
    "finalmodel = smf.ols(\"Price~Age_08_04+KM+HP+cc+Doors+Gears+Quarterly_Tax+Weight\", data = df3).fit()\n"
   ]
  },
  {
   "cell_type": "code",
   "execution_count": null,
   "id": "a3ed944e",
   "metadata": {
    "ExecuteTime": {
     "start_time": "2023-02-09T10:31:00.624Z"
    }
   },
   "outputs": [],
   "source": [
    "finalmodel.summary()### 0.885( r squared)"
   ]
  },
  {
   "cell_type": "markdown",
   "id": "c6e5afde",
   "metadata": {},
   "source": [
    "# Calculating vif"
   ]
  },
  {
   "cell_type": "code",
   "execution_count": null,
   "id": "65e64f82",
   "metadata": {
    "ExecuteTime": {
     "start_time": "2023-02-09T10:31:01.092Z"
    }
   },
   "outputs": [],
   "source": [
    "r_Age_08_04=smf.ols('Age_08_04~KM+HP+cc+Doors+Gears+Quarterly_Tax+Weight',data=df).fit().rsquared\n",
    "v_age=1/(1-r_Age_08_04)\n",
    "\n",
    "r_KM=smf.ols('KM~Age_08_04+HP+cc+Doors+Gears+Quarterly_Tax+Weight+Weight',data=df).fit().rsquared\n",
    "v_KM=1/(1-r_KM)\n",
    "\n",
    "r_HP=smf.ols('HP~Age_08_04+KM+cc+Doors+Gears+Quarterly_Tax+Weight+Weight',data=df).fit().rsquared\n",
    "v_HP=1/(1-r_HP)\n",
    "\n",
    "r_cc=smf.ols('cc~Age_08_04+KM+HP+Doors+Gears+Quarterly_Tax+Weight+Weight',data=df).fit().rsquared\n",
    "v_cc=1/(1-r_cc)\n",
    "\n",
    "r_Doors=smf.ols('Doors~Age_08_04+KM+HP+cc+Gears+Quarterly_Tax+Weight+Weight',data=df).fit().rsquared\n",
    "v_Doors=1/(1-r_Doors)\n",
    "\n",
    "r_Gears=smf.ols('Gears~Age_08_04+KM+HP+cc+Doors+Quarterly_Tax+Weight+Weight',data=df).fit().rsquared\n",
    "v_Gears=1/(1-r_Gears)\n",
    "\n",
    "r_Quarterly_Tax=smf.ols('Quarterly_Tax~Weight+Age_08_04+KM+HP+cc+Doors+Gears+Weight',data=df).fit().rsquared\n",
    "v_Quarterly_Tax=1/(1-r_Quarterly_Tax)\n",
    "\n",
    "r_Weight=smf.ols('Weight~Age_08_04+KM+HP+cc+Doors+Gears+Quarterly_Tax',data=df).fit().rsquared\n",
    "v_Weight=1/(1-r_Weight)"
   ]
  },
  {
   "cell_type": "code",
   "execution_count": null,
   "id": "effaeea6",
   "metadata": {
    "ExecuteTime": {
     "start_time": "2023-02-09T10:31:01.896Z"
    }
   },
   "outputs": [],
   "source": [
    "vif = pd.DataFrame({\n",
    "    'Featiurs'  : ['Age_08_04','KM','HP','cc','Doors','Gears','Quarterly_Tax','Weight'],\n",
    "    'VIF'       : [v_age,v_KM,v_HP,v_cc,v_Doors,v_Gears,v_Quarterly_Tax,v_Weight]\n",
    "})\n",
    "vif"
   ]
  },
  {
   "cell_type": "code",
   "execution_count": null,
   "id": "c45ea688",
   "metadata": {
    "ExecuteTime": {
     "start_time": "2023-02-09T10:31:02.771Z"
    }
   },
   "outputs": [],
   "source": [
    "## As all the vaiables are significant, we select it as the final model."
   ]
  },
  {
   "cell_type": "code",
   "execution_count": null,
   "id": "284df2d2",
   "metadata": {
    "ExecuteTime": {
     "start_time": "2023-02-09T10:31:03.481Z"
    }
   },
   "outputs": [],
   "source": [
    "#Prediction for newdataw data\n",
    "newdata = pd.DataFrame({\n",
    "    'Age_08_04':[19],\n",
    "    'KM':[70000],\n",
    "    'HP':[90],\n",
    "    'cc':[2700],\n",
    "    'Doors':[4],\n",
    "    'Gears':[6],\n",
    "    'Quarterly_Tax':[200],\n",
    "    'Weight':[1180]\n",
    "})"
   ]
  },
  {
   "cell_type": "code",
   "execution_count": null,
   "id": "60f0e69c",
   "metadata": {
    "ExecuteTime": {
     "start_time": "2023-02-09T10:31:04.143Z"
    }
   },
   "outputs": [],
   "source": [
    "newdata"
   ]
  },
  {
   "cell_type": "code",
   "execution_count": null,
   "id": "dad8353e",
   "metadata": {
    "ExecuteTime": {
     "start_time": "2023-02-09T10:31:17.864Z"
    }
   },
   "outputs": [],
   "source": [
    "finalmodel.predict(newdata)"
   ]
  },
  {
   "cell_type": "code",
   "execution_count": null,
   "id": "ce6a6b94",
   "metadata": {},
   "outputs": [],
   "source": []
  }
 ],
 "metadata": {
  "kernelspec": {
   "display_name": "Python 3 (ipykernel)",
   "language": "python",
   "name": "python3"
  },
  "language_info": {
   "codemirror_mode": {
    "name": "ipython",
    "version": 3
   },
   "file_extension": ".py",
   "mimetype": "text/x-python",
   "name": "python",
   "nbconvert_exporter": "python",
   "pygments_lexer": "ipython3",
   "version": "3.9.13"
  }
 },
 "nbformat": 4,
 "nbformat_minor": 5
}
